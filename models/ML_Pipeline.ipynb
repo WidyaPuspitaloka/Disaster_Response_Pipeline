{
 "cells": [
  {
   "cell_type": "markdown",
   "id": "c319e93e",
   "metadata": {},
   "source": [
    "# ML Pipeline Preparation\n",
    "Follow the instructions below to help you create your ML pipeline.\n",
    "### 1. Import libraries and load data from database.\n",
    "- Import Python libraries\n",
    "- Load dataset from database with [`read_sql_table`](https://pandas.pydata.org/pandas-docs/stable/generated/pandas.read_sql_table.html)\n",
    "- Define feature and target variables X and Y"
   ]
  },
  {
   "cell_type": "code",
   "execution_count": 81,
   "id": "267f1d2e",
   "metadata": {},
   "outputs": [
    {
     "name": "stderr",
     "output_type": "stream",
     "text": [
      "[nltk_data] Downloading package punkt to\n",
      "[nltk_data]     /Users/widyapuspitaloka/nltk_data...\n",
      "[nltk_data]   Package punkt is already up-to-date!\n",
      "[nltk_data] Downloading package wordnet to\n",
      "[nltk_data]     /Users/widyapuspitaloka/nltk_data...\n",
      "[nltk_data]   Package wordnet is already up-to-date!\n",
      "[nltk_data] Downloading package stopwords to\n",
      "[nltk_data]     /Users/widyapuspitaloka/nltk_data...\n",
      "[nltk_data]   Package stopwords is already up-to-date!\n",
      "[nltk_data] Downloading package averaged_perceptron_tagger to\n",
      "[nltk_data]     /Users/widyapuspitaloka/nltk_data...\n",
      "[nltk_data]   Package averaged_perceptron_tagger is already up-to-\n",
      "[nltk_data]       date!\n"
     ]
    }
   ],
   "source": [
    "# import libraries\n",
    "import re\n",
    "import pandas as pd\n",
    "import numpy as np\n",
    "import sqlite3\n",
    "import pickle\n",
    "from sqlalchemy import create_engine\n",
    "\n",
    "\n",
    "# download necessary NLTK data\n",
    "import nltk\n",
    "nltk.download(['punkt', 'wordnet', 'stopwords', 'averaged_perceptron_tagger'])\n",
    "from nltk.tokenize import word_tokenize\n",
    "from nltk.stem import WordNetLemmatizer\n",
    "from nltk.corpus import stopwords\n",
    "\n",
    "from sklearn.pipeline import Pipeline\n",
    "from sklearn.metrics import confusion_matrix, classification_report\n",
    "from sklearn.metrics import confusion_matrix\n",
    "from sklearn.model_selection import train_test_split\n",
    "from sklearn.pipeline import Pipeline, FeatureUnion\n",
    "from sklearn.model_selection import train_test_split, GridSearchCV\n",
    "from sklearn.ensemble import RandomForestClassifier\n",
    "from sklearn.base import BaseEstimator, TransformerMixin\n",
    "from sklearn.multioutput import MultiOutputClassifier\n",
    "from sklearn.feature_extraction.text import CountVectorizer, TfidfTransformer"
   ]
  },
  {
   "cell_type": "code",
   "execution_count": 43,
   "id": "5355a1f8",
   "metadata": {},
   "outputs": [
    {
     "data": {
      "text/html": [
       "<div>\n",
       "<style scoped>\n",
       "    .dataframe tbody tr th:only-of-type {\n",
       "        vertical-align: middle;\n",
       "    }\n",
       "\n",
       "    .dataframe tbody tr th {\n",
       "        vertical-align: top;\n",
       "    }\n",
       "\n",
       "    .dataframe thead th {\n",
       "        text-align: right;\n",
       "    }\n",
       "</style>\n",
       "<table border=\"1\" class=\"dataframe\">\n",
       "  <thead>\n",
       "    <tr style=\"text-align: right;\">\n",
       "      <th></th>\n",
       "      <th>id</th>\n",
       "      <th>message</th>\n",
       "      <th>genre</th>\n",
       "      <th>related</th>\n",
       "      <th>request</th>\n",
       "      <th>offer</th>\n",
       "      <th>aid_related</th>\n",
       "      <th>medical_help</th>\n",
       "      <th>medical_products</th>\n",
       "      <th>search_and_rescue</th>\n",
       "      <th>...</th>\n",
       "      <th>aid_centers</th>\n",
       "      <th>other_infrastructure</th>\n",
       "      <th>weather_related</th>\n",
       "      <th>floods</th>\n",
       "      <th>storm</th>\n",
       "      <th>fire</th>\n",
       "      <th>earthquake</th>\n",
       "      <th>cold</th>\n",
       "      <th>other_weather</th>\n",
       "      <th>direct_report</th>\n",
       "    </tr>\n",
       "  </thead>\n",
       "  <tbody>\n",
       "    <tr>\n",
       "      <th>0</th>\n",
       "      <td>2</td>\n",
       "      <td>Weather update - a cold front from Cuba that c...</td>\n",
       "      <td>direct</td>\n",
       "      <td>1</td>\n",
       "      <td>0</td>\n",
       "      <td>0</td>\n",
       "      <td>0</td>\n",
       "      <td>0</td>\n",
       "      <td>0</td>\n",
       "      <td>0</td>\n",
       "      <td>...</td>\n",
       "      <td>0</td>\n",
       "      <td>0</td>\n",
       "      <td>0</td>\n",
       "      <td>0</td>\n",
       "      <td>0</td>\n",
       "      <td>0</td>\n",
       "      <td>0</td>\n",
       "      <td>0</td>\n",
       "      <td>0</td>\n",
       "      <td>0</td>\n",
       "    </tr>\n",
       "    <tr>\n",
       "      <th>1</th>\n",
       "      <td>7</td>\n",
       "      <td>Is the Hurricane over or is it not over</td>\n",
       "      <td>direct</td>\n",
       "      <td>1</td>\n",
       "      <td>0</td>\n",
       "      <td>0</td>\n",
       "      <td>1</td>\n",
       "      <td>0</td>\n",
       "      <td>0</td>\n",
       "      <td>0</td>\n",
       "      <td>...</td>\n",
       "      <td>0</td>\n",
       "      <td>0</td>\n",
       "      <td>1</td>\n",
       "      <td>0</td>\n",
       "      <td>1</td>\n",
       "      <td>0</td>\n",
       "      <td>0</td>\n",
       "      <td>0</td>\n",
       "      <td>0</td>\n",
       "      <td>0</td>\n",
       "    </tr>\n",
       "    <tr>\n",
       "      <th>2</th>\n",
       "      <td>8</td>\n",
       "      <td>Looking for someone but no name</td>\n",
       "      <td>direct</td>\n",
       "      <td>1</td>\n",
       "      <td>0</td>\n",
       "      <td>0</td>\n",
       "      <td>0</td>\n",
       "      <td>0</td>\n",
       "      <td>0</td>\n",
       "      <td>0</td>\n",
       "      <td>...</td>\n",
       "      <td>0</td>\n",
       "      <td>0</td>\n",
       "      <td>0</td>\n",
       "      <td>0</td>\n",
       "      <td>0</td>\n",
       "      <td>0</td>\n",
       "      <td>0</td>\n",
       "      <td>0</td>\n",
       "      <td>0</td>\n",
       "      <td>0</td>\n",
       "    </tr>\n",
       "    <tr>\n",
       "      <th>3</th>\n",
       "      <td>9</td>\n",
       "      <td>UN reports Leogane 80-90 destroyed. Only Hospi...</td>\n",
       "      <td>direct</td>\n",
       "      <td>1</td>\n",
       "      <td>1</td>\n",
       "      <td>0</td>\n",
       "      <td>1</td>\n",
       "      <td>0</td>\n",
       "      <td>1</td>\n",
       "      <td>0</td>\n",
       "      <td>...</td>\n",
       "      <td>0</td>\n",
       "      <td>0</td>\n",
       "      <td>0</td>\n",
       "      <td>0</td>\n",
       "      <td>0</td>\n",
       "      <td>0</td>\n",
       "      <td>0</td>\n",
       "      <td>0</td>\n",
       "      <td>0</td>\n",
       "      <td>0</td>\n",
       "    </tr>\n",
       "    <tr>\n",
       "      <th>4</th>\n",
       "      <td>12</td>\n",
       "      <td>says: west side of Haiti, rest of the country ...</td>\n",
       "      <td>direct</td>\n",
       "      <td>1</td>\n",
       "      <td>0</td>\n",
       "      <td>0</td>\n",
       "      <td>0</td>\n",
       "      <td>0</td>\n",
       "      <td>0</td>\n",
       "      <td>0</td>\n",
       "      <td>...</td>\n",
       "      <td>0</td>\n",
       "      <td>0</td>\n",
       "      <td>0</td>\n",
       "      <td>0</td>\n",
       "      <td>0</td>\n",
       "      <td>0</td>\n",
       "      <td>0</td>\n",
       "      <td>0</td>\n",
       "      <td>0</td>\n",
       "      <td>0</td>\n",
       "    </tr>\n",
       "  </tbody>\n",
       "</table>\n",
       "<p>5 rows × 38 columns</p>\n",
       "</div>"
      ],
      "text/plain": [
       "   id                                            message   genre  related  \\\n",
       "0   2  Weather update - a cold front from Cuba that c...  direct        1   \n",
       "1   7            Is the Hurricane over or is it not over  direct        1   \n",
       "2   8                    Looking for someone but no name  direct        1   \n",
       "3   9  UN reports Leogane 80-90 destroyed. Only Hospi...  direct        1   \n",
       "4  12  says: west side of Haiti, rest of the country ...  direct        1   \n",
       "\n",
       "   request  offer  aid_related  medical_help  medical_products  \\\n",
       "0        0      0            0             0                 0   \n",
       "1        0      0            1             0                 0   \n",
       "2        0      0            0             0                 0   \n",
       "3        1      0            1             0                 1   \n",
       "4        0      0            0             0                 0   \n",
       "\n",
       "   search_and_rescue  ...  aid_centers  other_infrastructure  weather_related  \\\n",
       "0                  0  ...            0                     0                0   \n",
       "1                  0  ...            0                     0                1   \n",
       "2                  0  ...            0                     0                0   \n",
       "3                  0  ...            0                     0                0   \n",
       "4                  0  ...            0                     0                0   \n",
       "\n",
       "   floods  storm  fire  earthquake  cold  other_weather  direct_report  \n",
       "0       0      0     0           0     0              0              0  \n",
       "1       0      1     0           0     0              0              0  \n",
       "2       0      0     0           0     0              0              0  \n",
       "3       0      0     0           0     0              0              0  \n",
       "4       0      0     0           0     0              0              0  \n",
       "\n",
       "[5 rows x 38 columns]"
      ]
     },
     "execution_count": 43,
     "metadata": {},
     "output_type": "execute_result"
    }
   ],
   "source": [
    "# load data from database\n",
    "engine = create_engine('sqlite:///DisasterMessages.db')\n",
    "df = pd.read_sql(\"SELECT * FROM messages\", engine)\n",
    "df.head()"
   ]
  },
  {
   "cell_type": "code",
   "execution_count": 44,
   "id": "52939fc8",
   "metadata": {},
   "outputs": [
    {
     "data": {
      "text/plain": [
       "id                        0\n",
       "message                   0\n",
       "genre                     0\n",
       "related                   0\n",
       "request                   0\n",
       "offer                     0\n",
       "aid_related               0\n",
       "medical_help              0\n",
       "medical_products          0\n",
       "search_and_rescue         0\n",
       "security                  0\n",
       "military                  0\n",
       "water                     0\n",
       "food                      0\n",
       "shelter                   0\n",
       "clothing                  0\n",
       "money                     0\n",
       "missing_people            0\n",
       "refugees                  0\n",
       "death                     0\n",
       "other_aid                 0\n",
       "infrastructure_related    0\n",
       "transport                 0\n",
       "buildings                 0\n",
       "electricity               0\n",
       "tools                     0\n",
       "hospitals                 0\n",
       "shops                     0\n",
       "aid_centers               0\n",
       "other_infrastructure      0\n",
       "weather_related           0\n",
       "floods                    0\n",
       "storm                     0\n",
       "fire                      0\n",
       "earthquake                0\n",
       "cold                      0\n",
       "other_weather             0\n",
       "direct_report             0\n",
       "dtype: int64"
      ]
     },
     "execution_count": 44,
     "metadata": {},
     "output_type": "execute_result"
    }
   ],
   "source": [
    "df.isnull().sum()"
   ]
  },
  {
   "cell_type": "code",
   "execution_count": 45,
   "id": "4703ac7f",
   "metadata": {},
   "outputs": [
    {
     "name": "stdout",
     "output_type": "stream",
     "text": [
      "(26216,)\n"
     ]
    }
   ],
   "source": [
    "X = df['message']\n",
    "Y = df[df.columns[3:]]\n",
    "\n",
    "print(X.shape)"
   ]
  },
  {
   "cell_type": "code",
   "execution_count": 32,
   "id": "91205ffa",
   "metadata": {},
   "outputs": [
    {
     "data": {
      "text/plain": [
       "0        Weather update - a cold front from Cuba that c...\n",
       "1                  Is the Hurricane over or is it not over\n",
       "2                          Looking for someone but no name\n",
       "3        UN reports Leogane 80-90 destroyed. Only Hospi...\n",
       "4        says: west side of Haiti, rest of the country ...\n",
       "                               ...                        \n",
       "26211    The training demonstrated how to enhance micro...\n",
       "26212    A suitable candidate has been selected and OCH...\n",
       "26213    Proshika, operating in Cox's Bazar municipalit...\n",
       "26214    Some 2,000 women protesting against the conduc...\n",
       "26215    A radical shift in thinking came about as a re...\n",
       "Name: message, Length: 26216, dtype: object"
      ]
     },
     "execution_count": 32,
     "metadata": {},
     "output_type": "execute_result"
    }
   ],
   "source": [
    "X"
   ]
  },
  {
   "cell_type": "code",
   "execution_count": 22,
   "id": "c217e723",
   "metadata": {},
   "outputs": [],
   "source": [
    "labels = list(df.columns[3:])"
   ]
  },
  {
   "cell_type": "markdown",
   "id": "44df8516",
   "metadata": {},
   "source": [
    "### 2. Write a tokenization function to process your text data"
   ]
  },
  {
   "cell_type": "code",
   "execution_count": 46,
   "id": "692271a5",
   "metadata": {},
   "outputs": [],
   "source": [
    "url_regex = 'http[s]?://(?:[a-zA-Z]|[0-9]|[$-_@.&+]|[!*\\(\\),]|(?:%[0-9a-fA-F][0-9a-fA-F]))+'\n",
    "\n",
    "def tokenize(text):\n",
    "    '''\n",
    "    input: text (str) - text to be processed\n",
    "    output: clean token(list) -list of clean token\n",
    "    '''\n",
    "    #print('original_text', text)\n",
    "    #remove stop words\n",
    "    stop_words = stopwords.words(\"english\")\n",
    "    \n",
    "    # get list of all urls using regex\n",
    "    detected_urls = re.findall(url_regex, text)\n",
    "    \n",
    "    # replace each url in text string with placeholder\n",
    "    for url in detected_urls:\n",
    "        text = text.replace(url, 'urlplaceholder')\n",
    "\n",
    "    #text = re.sub(r\"[^a-zA-Z0-9]\", \" \", text.lower())\n",
    "    \n",
    "    # extract word tokens from the text - tokenize text\n",
    "    tokens = word_tokenize(text)\n",
    "    \n",
    "    # initiate lemmatizer\n",
    "    lemmatizer = WordNetLemmatizer()\n",
    "    \n",
    "    # iterate through each token\n",
    "    clean_tokens = []\n",
    "    for tok in tokens:\n",
    "        if tok not in stop_words:\n",
    "            # lemmatize, normalize case, and remove leading/trailing white space\n",
    "            clean_tok = lemmatizer.lemmatize(tok).lower().strip()\n",
    "            clean_tokens.append(clean_tok)\n",
    "\n",
    "    return clean_tokens"
   ]
  },
  {
   "cell_type": "code",
   "execution_count": 47,
   "id": "4df80d9d",
   "metadata": {},
   "outputs": [],
   "source": [
    "# Create a custom transformer to extract verb\n",
    "class StartingVerbExtractor(BaseEstimator, TransformerMixin):\n",
    "    '''\n",
    "    A class verb extractor - an estimator to extract the starting verb in a sentence\n",
    "    '''\n",
    "    def starting_verb(self, text): \n",
    "        \"\"\"\n",
    "        Function to evaluate whether there is a verb starting a sentence\n",
    "        in the text.\n",
    "        INPUT:\n",
    "        text (str) - text to search the verb\n",
    "        \"\"\"\n",
    "        # tokenize by sentences\n",
    "        sentence_list = nltk.sent_tokenize(text)\n",
    "        \n",
    "        for sentence in sentence_list:\n",
    "            # tokenize each sentence into words and tag part of speech\n",
    "            #print(pos_tags)\n",
    "            pos_tags = nltk.pos_tag(tokenize(sentence))\n",
    "            if len(pos_tags)>0:\n",
    "            # index pos_tags to get the first word and part of speech tag\n",
    "                first_word, first_tag = pos_tags[0]\n",
    "        \n",
    "        # return true if the first word is an appropriate verb or RT for retweet\n",
    "                if first_tag in ['VB', 'VBP'] or first_word == 'RT':\n",
    "                    return True\n",
    "        return False\n",
    "        \n",
    "    def fit(self, x, y=None):\n",
    "        \"\"\"\n",
    "        Fit function is required for an estimator.\n",
    "        \"\"\"\n",
    "        return self\n",
    "\n",
    "    def transform(self, X):\n",
    "        \"\"\"\n",
    "        Transfrom function to transform the data \n",
    "        Running self.starting_verb functin and return the data as X\n",
    "        \"\"\"\n",
    "        # apply starting_verb function to all values in X\n",
    "        X_tagged = pd.Series(X).apply(self.starting_verb)\n",
    "        return pd.DataFrame(X_tagged)\n",
    "            "
   ]
  },
  {
   "cell_type": "markdown",
   "id": "c5186d28",
   "metadata": {},
   "source": [
    "### 3. Build a machine learning pipeline\n",
    "This machine pipeline should take in the `message` column as input and output classification results on the other 36 categories in the dataset. You may find the [MultiOutputClassifier](http://scikit-learn.org/stable/modules/generated/sklearn.multioutput.MultiOutputClassifier.html) helpful for predicting multiple target variables."
   ]
  },
  {
   "cell_type": "code",
   "execution_count": 74,
   "id": "7d822241",
   "metadata": {},
   "outputs": [],
   "source": [
    "def model_pipeline():\n",
    "    '''\n",
    "    Return a model that has been pipelined\n",
    "    '''\n",
    "    #build pipeline\n",
    "    pipeline = Pipeline([\n",
    "        ('features', FeatureUnion([\n",
    "            ('text_pipeline', Pipeline([\n",
    "                ('vect', CountVectorizer(tokenizer=tokenize)),\n",
    "                ('tfidf', TfidfTransformer())\n",
    "            ])),\n",
    "\n",
    "            ('starting_verb', StartingVerbExtractor())\n",
    "        ])),\n",
    "\n",
    "        ('clf', MultiOutputClassifier(RandomForestClassifier()))\n",
    "    ])\n",
    "    \n",
    "    #specifity the parameter for grid search\n",
    "    parameters = {\n",
    "    'features__text_pipeline__tfidf__use_idf':(True, False),\n",
    "    'clf__estimator__n_estimators': [10, 50], #50, 100\n",
    "    'clf__estimator__min_samples_split': [2, 4], #4\n",
    "    #'clf__estimator__learning_rate': [0.1, 0.3]\n",
    "        }\n",
    "\n",
    "    # create grid search object\n",
    "    model = GridSearchCV(pipeline, parameters, n_jobs=1, verbose=1)\n",
    "\n",
    "    return model\n"
   ]
  },
  {
   "cell_type": "code",
   "execution_count": 10,
   "id": "96beae75",
   "metadata": {},
   "outputs": [],
   "source": [
    "#checking parameters\n",
    "#pipeline = model_pipeline()\n",
    "#pipeline.get_params()"
   ]
  },
  {
   "cell_type": "markdown",
   "id": "70776203",
   "metadata": {},
   "source": [
    "### 4. Train Pipeline\n",
    "- Split data into train and test\n",
    "- Train the pipeline"
   ]
  },
  {
   "cell_type": "code",
   "execution_count": 49,
   "id": "0d40e1b1",
   "metadata": {},
   "outputs": [
    {
     "data": {
      "text/plain": [
       "GridSearchCV(estimator=Pipeline(steps=[('features',\n",
       "                                        FeatureUnion(transformer_list=[('text_pipeline',\n",
       "                                                                        Pipeline(steps=[('vect',\n",
       "                                                                                         CountVectorizer(tokenizer=<function tokenize at 0x7fc978db5c10>)),\n",
       "                                                                                        ('tfidf',\n",
       "                                                                                         TfidfTransformer())])),\n",
       "                                                                       ('starting_verb',\n",
       "                                                                        StartingVerbExtractor())])),\n",
       "                                       ('clf',\n",
       "                                        MultiOutputClassifier(estimator=RandomForestClassifier()))]),\n",
       "             param_grid={})"
      ]
     },
     "execution_count": 49,
     "metadata": {},
     "output_type": "execute_result"
    }
   ],
   "source": [
    "X_train, X_test, y_train, y_test = train_test_split(X, Y)\n",
    "pipeline_model = model_pipeline()\n",
    "pipeline_model.fit(X_train, y_train)"
   ]
  },
  {
   "cell_type": "code",
   "execution_count": 50,
   "id": "8a551e89",
   "metadata": {},
   "outputs": [
    {
     "data": {
      "text/plain": [
       "((19662,), (19662, 35), (6554,), (6554, 35))"
      ]
     },
     "execution_count": 50,
     "metadata": {},
     "output_type": "execute_result"
    }
   ],
   "source": [
    "X_train.shape, y_train.shape, X_test.shape, y_test.shape"
   ]
  },
  {
   "cell_type": "code",
   "execution_count": null,
   "id": "a1779f32",
   "metadata": {},
   "outputs": [],
   "source": [
    "X_train = np.arange(707832).reshape((19662, 36))\n",
    "X_train"
   ]
  },
  {
   "cell_type": "code",
   "execution_count": null,
   "id": "69f9dcd0",
   "metadata": {},
   "outputs": [],
   "source": [
    "X_test = np.arange(235944).reshape((6554, 36))\n",
    "X_test.shape"
   ]
  },
  {
   "cell_type": "markdown",
   "id": "5b5e29e8",
   "metadata": {},
   "source": [
    "### 5. Test your model\n",
    "Report the f1 score, precision and recall for each output category of the dataset. You can do this by iterating through the columns and calling sklearn's `classification_report` on each."
   ]
  },
  {
   "cell_type": "code",
   "execution_count": 51,
   "id": "f2079d32",
   "metadata": {},
   "outputs": [],
   "source": [
    "y_pred_test = pipeline_model.predict(X_test)\n",
    "y_pred_train = pipeline_model.predict(X_train)"
   ]
  },
  {
   "cell_type": "code",
   "execution_count": 40,
   "id": "8fc2b0b2",
   "metadata": {},
   "outputs": [
    {
     "name": "stdout",
     "output_type": "stream",
     "text": [
      "                        precision    recall  f1-score   support\n",
      "\n",
      "               related       0.82      0.95      0.88      4962\n",
      "               request       0.80      0.48      0.60      1122\n",
      "                 offer       0.00      0.00      0.00        21\n",
      "           aid_related       0.73      0.69      0.71      2710\n",
      "          medical_help       0.54      0.06      0.10       523\n",
      "      medical_products       0.70      0.06      0.11       360\n",
      "     search_and_rescue       0.83      0.03      0.05       186\n",
      "              security       0.00      0.00      0.00       112\n",
      "              military       0.70      0.13      0.22       204\n",
      "                 water       0.88      0.30      0.45       405\n",
      "                  food       0.81      0.62      0.71       738\n",
      "               shelter       0.84      0.30      0.45       584\n",
      "              clothing       0.62      0.10      0.17       100\n",
      "                 money       1.00      0.01      0.03       138\n",
      "        missing_people       0.00      0.00      0.00        90\n",
      "              refugees       0.66      0.10      0.17       238\n",
      "                 death       0.82      0.18      0.30       299\n",
      "             other_aid       0.53      0.04      0.08       871\n",
      "infrastructure_related       0.00      0.00      0.00       397\n",
      "             transport       0.78      0.09      0.16       319\n",
      "             buildings       0.85      0.13      0.22       345\n",
      "           electricity       0.67      0.03      0.06       127\n",
      "                 tools       0.00      0.00      0.00        43\n",
      "             hospitals       1.00      0.01      0.03        69\n",
      "                 shops       0.00      0.00      0.00        30\n",
      "           aid_centers       0.00      0.00      0.00        61\n",
      "  other_infrastructure       0.00      0.00      0.00       276\n",
      "       weather_related       0.86      0.65      0.74      1850\n",
      "                floods       0.91      0.41      0.57       571\n",
      "                 storm       0.79      0.47      0.59       603\n",
      "                  fire       0.00      0.00      0.00        77\n",
      "            earthquake       0.89      0.73      0.80       609\n",
      "                  cold       0.72      0.15      0.25       137\n",
      "         other_weather       0.61      0.06      0.11       356\n",
      "         direct_report       0.79      0.35      0.48      1278\n",
      "\n",
      "             micro avg       0.80      0.52      0.63     20811\n",
      "             macro avg       0.58      0.20      0.26     20811\n",
      "          weighted avg       0.74      0.52      0.56     20811\n",
      "           samples avg       0.66      0.47      0.50     20811\n",
      "\n",
      "--------------------------------------------------------------------\n",
      "                        precision    recall  f1-score   support\n",
      "\n",
      "               related       1.00      1.00      1.00     14944\n",
      "               request       1.00      0.99      0.99      3352\n",
      "                 offer       1.00      0.93      0.96        97\n",
      "           aid_related       1.00      1.00      1.00      8150\n",
      "          medical_help       1.00      0.97      0.99      1561\n",
      "      medical_products       1.00      0.97      0.98       953\n",
      "     search_and_rescue       1.00      0.94      0.97       538\n",
      "              security       1.00      0.92      0.96       359\n",
      "              military       1.00      0.97      0.98       656\n",
      "                 water       1.00      0.99      1.00      1267\n",
      "                  food       1.00      0.99      1.00      2185\n",
      "               shelter       1.00      0.98      0.99      1730\n",
      "              clothing       1.00      0.97      0.99       305\n",
      "                 money       1.00      0.95      0.98       466\n",
      "        missing_people       1.00      0.94      0.97       208\n",
      "              refugees       1.00      0.96      0.98       637\n",
      "                 death       1.00      0.98      0.99       895\n",
      "             other_aid       1.00      0.97      0.98      2575\n",
      "infrastructure_related       1.00      0.96      0.98      1308\n",
      "             transport       1.00      0.96      0.98       882\n",
      "             buildings       1.00      0.97      0.99       988\n",
      "           electricity       1.00      0.98      0.99       405\n",
      "                 tools       1.00      0.95      0.97       116\n",
      "             hospitals       1.00      0.94      0.97       214\n",
      "                 shops       1.00      0.93      0.97        90\n",
      "           aid_centers       1.00      0.95      0.97       248\n",
      "  other_infrastructure       1.00      0.95      0.97       875\n",
      "       weather_related       1.00      1.00      1.00      5447\n",
      "                floods       1.00      0.98      0.99      1584\n",
      "                 storm       1.00      0.99      1.00      1840\n",
      "                  fire       1.00      0.95      0.97       205\n",
      "            earthquake       1.00      0.99      1.00      1846\n",
      "                  cold       1.00      0.97      0.99       393\n",
      "         other_weather       1.00      0.95      0.97      1020\n",
      "         direct_report       1.00      0.99      0.99      3797\n",
      "\n",
      "             micro avg       1.00      0.99      0.99     62136\n",
      "             macro avg       1.00      0.97      0.98     62136\n",
      "          weighted avg       1.00      0.99      0.99     62136\n",
      "           samples avg       0.76      0.75      0.76     62136\n",
      "\n"
     ]
    },
    {
     "name": "stderr",
     "output_type": "stream",
     "text": [
      "/Users/widyapuspitaloka/opt/miniconda3/envs/dsnd_etl/lib/python3.9/site-packages/sklearn/metrics/_classification.py:1248: UndefinedMetricWarning: Precision and F-score are ill-defined and being set to 0.0 in labels with no predicted samples. Use `zero_division` parameter to control this behavior.\n",
      "  _warn_prf(average, modifier, msg_start, len(result))\n",
      "/Users/widyapuspitaloka/opt/miniconda3/envs/dsnd_etl/lib/python3.9/site-packages/sklearn/metrics/_classification.py:1248: UndefinedMetricWarning: Precision and F-score are ill-defined and being set to 0.0 in samples with no predicted labels. Use `zero_division` parameter to control this behavior.\n",
      "  _warn_prf(average, modifier, msg_start, len(result))\n",
      "/Users/widyapuspitaloka/opt/miniconda3/envs/dsnd_etl/lib/python3.9/site-packages/sklearn/metrics/_classification.py:1248: UndefinedMetricWarning: Recall and F-score are ill-defined and being set to 0.0 in samples with no true labels. Use `zero_division` parameter to control this behavior.\n",
      "  _warn_prf(average, modifier, msg_start, len(result))\n",
      "/Users/widyapuspitaloka/opt/miniconda3/envs/dsnd_etl/lib/python3.9/site-packages/sklearn/metrics/_classification.py:1248: UndefinedMetricWarning: Precision and F-score are ill-defined and being set to 0.0 in samples with no predicted labels. Use `zero_division` parameter to control this behavior.\n",
      "  _warn_prf(average, modifier, msg_start, len(result))\n",
      "/Users/widyapuspitaloka/opt/miniconda3/envs/dsnd_etl/lib/python3.9/site-packages/sklearn/metrics/_classification.py:1248: UndefinedMetricWarning: Recall and F-score are ill-defined and being set to 0.0 in samples with no true labels. Use `zero_division` parameter to control this behavior.\n",
      "  _warn_prf(average, modifier, msg_start, len(result))\n"
     ]
    }
   ],
   "source": [
    "#classification report on the test data \n",
    "print(classification_report(y_test.values, y_pred_test, target_names=Y.columns.values))\n",
    "print('--------------------------------------------------------------------')\n",
    "#classification report on the train data \n",
    "print(classification_report(y_train.values, y_pred_train, target_names=Y.columns.values))"
   ]
  },
  {
   "cell_type": "markdown",
   "id": "ba5b9cfd",
   "metadata": {},
   "source": [
    "### 6. Improve your model\n",
    "Use grid search to find better parameters. "
   ]
  },
  {
   "cell_type": "code",
   "execution_count": 75,
   "id": "ad4a29b2",
   "metadata": {},
   "outputs": [
    {
     "data": {
      "text/plain": [
       "{'cv': None,\n",
       " 'error_score': nan,\n",
       " 'estimator__memory': None,\n",
       " 'estimator__steps': [('features',\n",
       "   FeatureUnion(transformer_list=[('text_pipeline',\n",
       "                                   Pipeline(steps=[('vect',\n",
       "                                                    CountVectorizer(tokenizer=<function tokenize at 0x7fc978db5c10>)),\n",
       "                                                   ('tfidf',\n",
       "                                                    TfidfTransformer())])),\n",
       "                                  ('starting_verb', StartingVerbExtractor())])),\n",
       "  ('clf', MultiOutputClassifier(estimator=RandomForestClassifier()))],\n",
       " 'estimator__verbose': False,\n",
       " 'estimator__features': FeatureUnion(transformer_list=[('text_pipeline',\n",
       "                                 Pipeline(steps=[('vect',\n",
       "                                                  CountVectorizer(tokenizer=<function tokenize at 0x7fc978db5c10>)),\n",
       "                                                 ('tfidf',\n",
       "                                                  TfidfTransformer())])),\n",
       "                                ('starting_verb', StartingVerbExtractor())]),\n",
       " 'estimator__clf': MultiOutputClassifier(estimator=RandomForestClassifier()),\n",
       " 'estimator__features__n_jobs': None,\n",
       " 'estimator__features__transformer_list': [('text_pipeline',\n",
       "   Pipeline(steps=[('vect',\n",
       "                    CountVectorizer(tokenizer=<function tokenize at 0x7fc978db5c10>)),\n",
       "                   ('tfidf', TfidfTransformer())])),\n",
       "  ('starting_verb', StartingVerbExtractor())],\n",
       " 'estimator__features__transformer_weights': None,\n",
       " 'estimator__features__verbose': False,\n",
       " 'estimator__features__text_pipeline': Pipeline(steps=[('vect',\n",
       "                  CountVectorizer(tokenizer=<function tokenize at 0x7fc978db5c10>)),\n",
       "                 ('tfidf', TfidfTransformer())]),\n",
       " 'estimator__features__starting_verb': StartingVerbExtractor(),\n",
       " 'estimator__features__text_pipeline__memory': None,\n",
       " 'estimator__features__text_pipeline__steps': [('vect',\n",
       "   CountVectorizer(tokenizer=<function tokenize at 0x7fc978db5c10>)),\n",
       "  ('tfidf', TfidfTransformer())],\n",
       " 'estimator__features__text_pipeline__verbose': False,\n",
       " 'estimator__features__text_pipeline__vect': CountVectorizer(tokenizer=<function tokenize at 0x7fc978db5c10>),\n",
       " 'estimator__features__text_pipeline__tfidf': TfidfTransformer(),\n",
       " 'estimator__features__text_pipeline__vect__analyzer': 'word',\n",
       " 'estimator__features__text_pipeline__vect__binary': False,\n",
       " 'estimator__features__text_pipeline__vect__decode_error': 'strict',\n",
       " 'estimator__features__text_pipeline__vect__dtype': numpy.int64,\n",
       " 'estimator__features__text_pipeline__vect__encoding': 'utf-8',\n",
       " 'estimator__features__text_pipeline__vect__input': 'content',\n",
       " 'estimator__features__text_pipeline__vect__lowercase': True,\n",
       " 'estimator__features__text_pipeline__vect__max_df': 1.0,\n",
       " 'estimator__features__text_pipeline__vect__max_features': None,\n",
       " 'estimator__features__text_pipeline__vect__min_df': 1,\n",
       " 'estimator__features__text_pipeline__vect__ngram_range': (1, 1),\n",
       " 'estimator__features__text_pipeline__vect__preprocessor': None,\n",
       " 'estimator__features__text_pipeline__vect__stop_words': None,\n",
       " 'estimator__features__text_pipeline__vect__strip_accents': None,\n",
       " 'estimator__features__text_pipeline__vect__token_pattern': '(?u)\\\\b\\\\w\\\\w+\\\\b',\n",
       " 'estimator__features__text_pipeline__vect__tokenizer': <function __main__.tokenize(text)>,\n",
       " 'estimator__features__text_pipeline__vect__vocabulary': None,\n",
       " 'estimator__features__text_pipeline__tfidf__norm': 'l2',\n",
       " 'estimator__features__text_pipeline__tfidf__smooth_idf': True,\n",
       " 'estimator__features__text_pipeline__tfidf__sublinear_tf': False,\n",
       " 'estimator__features__text_pipeline__tfidf__use_idf': True,\n",
       " 'estimator__clf__estimator__bootstrap': True,\n",
       " 'estimator__clf__estimator__ccp_alpha': 0.0,\n",
       " 'estimator__clf__estimator__class_weight': None,\n",
       " 'estimator__clf__estimator__criterion': 'gini',\n",
       " 'estimator__clf__estimator__max_depth': None,\n",
       " 'estimator__clf__estimator__max_features': 'auto',\n",
       " 'estimator__clf__estimator__max_leaf_nodes': None,\n",
       " 'estimator__clf__estimator__max_samples': None,\n",
       " 'estimator__clf__estimator__min_impurity_decrease': 0.0,\n",
       " 'estimator__clf__estimator__min_impurity_split': None,\n",
       " 'estimator__clf__estimator__min_samples_leaf': 1,\n",
       " 'estimator__clf__estimator__min_samples_split': 2,\n",
       " 'estimator__clf__estimator__min_weight_fraction_leaf': 0.0,\n",
       " 'estimator__clf__estimator__n_estimators': 100,\n",
       " 'estimator__clf__estimator__n_jobs': None,\n",
       " 'estimator__clf__estimator__oob_score': False,\n",
       " 'estimator__clf__estimator__random_state': None,\n",
       " 'estimator__clf__estimator__verbose': 0,\n",
       " 'estimator__clf__estimator__warm_start': False,\n",
       " 'estimator__clf__estimator': RandomForestClassifier(),\n",
       " 'estimator__clf__n_jobs': None,\n",
       " 'estimator': Pipeline(steps=[('features',\n",
       "                  FeatureUnion(transformer_list=[('text_pipeline',\n",
       "                                                  Pipeline(steps=[('vect',\n",
       "                                                                   CountVectorizer(tokenizer=<function tokenize at 0x7fc978db5c10>)),\n",
       "                                                                  ('tfidf',\n",
       "                                                                   TfidfTransformer())])),\n",
       "                                                 ('starting_verb',\n",
       "                                                  StartingVerbExtractor())])),\n",
       "                 ('clf',\n",
       "                  MultiOutputClassifier(estimator=RandomForestClassifier()))]),\n",
       " 'n_jobs': 1,\n",
       " 'param_grid': {'features__text_pipeline__tfidf__use_idf': (True, False),\n",
       "  'clf__estimator__n_estimators': [10, 50],\n",
       "  'clf__estimator__min_samples_split': [2, 4]},\n",
       " 'pre_dispatch': '2*n_jobs',\n",
       " 'refit': True,\n",
       " 'return_train_score': False,\n",
       " 'scoring': None,\n",
       " 'verbose': 1}"
      ]
     },
     "execution_count": 75,
     "metadata": {},
     "output_type": "execute_result"
    }
   ],
   "source": [
    "pipeline_model = model_pipeline()\n",
    "pipeline_model.get_params()"
   ]
  },
  {
   "cell_type": "code",
   "execution_count": 76,
   "id": "12c84e14",
   "metadata": {},
   "outputs": [
    {
     "name": "stdout",
     "output_type": "stream",
     "text": [
      "Fitting 5 folds for each of 8 candidates, totalling 40 fits\n"
     ]
    },
    {
     "data": {
      "text/plain": [
       "GridSearchCV(estimator=Pipeline(steps=[('features',\n",
       "                                        FeatureUnion(transformer_list=[('text_pipeline',\n",
       "                                                                        Pipeline(steps=[('vect',\n",
       "                                                                                         CountVectorizer(tokenizer=<function tokenize at 0x7fc978db5c10>)),\n",
       "                                                                                        ('tfidf',\n",
       "                                                                                         TfidfTransformer())])),\n",
       "                                                                       ('starting_verb',\n",
       "                                                                        StartingVerbExtractor())])),\n",
       "                                       ('clf',\n",
       "                                        MultiOutputClassifier(estimator=RandomForestClassifier()))]),\n",
       "             n_jobs=1,\n",
       "             param_grid={'clf__estimator__min_samples_split': [2, 4],\n",
       "                         'clf__estimator__n_estimators': [10, 50],\n",
       "                         'features__text_pipeline__tfidf__use_idf': (True,\n",
       "                                                                     False)},\n",
       "             verbose=1)"
      ]
     },
     "execution_count": 76,
     "metadata": {},
     "output_type": "execute_result"
    }
   ],
   "source": [
    "# improving model with cvgrids (add parameters to the function)\n",
    "pipeline_model.fit(X_train, y_train)"
   ]
  },
  {
   "cell_type": "markdown",
   "id": "cf5162fb",
   "metadata": {},
   "source": [
    "### 7. Test your model\n",
    "Show the accuracy, precision, and recall of the tuned model.  \n",
    "\n",
    "Since this project focuses on code quality, process, and  pipelines, there is no minimum performance metric needed to pass. However, make sure to fine tune your models for accuracy, precision and recall to make your project stand out - especially for your portfolio!"
   ]
  },
  {
   "cell_type": "code",
   "execution_count": 77,
   "id": "34a11eff",
   "metadata": {},
   "outputs": [],
   "source": [
    "y_pred_test = pipeline_model.predict(X_test)\n",
    "y_pred_train = pipeline_model.predict(X_train)"
   ]
  },
  {
   "cell_type": "code",
   "execution_count": 78,
   "id": "cfb74a04",
   "metadata": {},
   "outputs": [
    {
     "name": "stdout",
     "output_type": "stream",
     "text": [
      "                        precision    recall  f1-score   support\n",
      "\n",
      "               related       0.83      0.96      0.89      4976\n",
      "               request       0.85      0.47      0.61      1110\n",
      "                 offer       0.00      0.00      0.00        28\n",
      "           aid_related       0.75      0.67      0.71      2677\n",
      "          medical_help       0.60      0.07      0.13       514\n",
      "      medical_products       0.61      0.06      0.11       327\n",
      "     search_and_rescue       0.69      0.14      0.24       166\n",
      "              security       0.00      0.00      0.00       105\n",
      "              military       0.67      0.06      0.10       181\n",
      "                 water       0.86      0.33      0.47       405\n",
      "                  food       0.82      0.56      0.67       699\n",
      "               shelter       0.80      0.33      0.47       559\n",
      "              clothing       0.50      0.04      0.08        94\n",
      "                 money       0.80      0.03      0.05       159\n",
      "        missing_people       1.00      0.02      0.03        62\n",
      "              refugees       0.62      0.04      0.07       218\n",
      "                 death       0.83      0.19      0.31       278\n",
      "             other_aid       0.59      0.02      0.04       862\n",
      "infrastructure_related       0.00      0.00      0.00       418\n",
      "             transport       0.74      0.06      0.11       297\n",
      "             buildings       0.80      0.12      0.20       320\n",
      "           electricity       1.00      0.03      0.06       130\n",
      "                 tools       0.00      0.00      0.00        34\n",
      "             hospitals       0.00      0.00      0.00        70\n",
      "                 shops       0.00      0.00      0.00        27\n",
      "           aid_centers       0.00      0.00      0.00        65\n",
      "  other_infrastructure       0.00      0.00      0.00       292\n",
      "       weather_related       0.86      0.66      0.74      1829\n",
      "                floods       0.89      0.41      0.56       533\n",
      "                 storm       0.80      0.52      0.63       622\n",
      "                  fire       1.00      0.03      0.06        68\n",
      "            earthquake       0.90      0.74      0.81       612\n",
      "                  cold       0.72      0.14      0.23       133\n",
      "         other_weather       0.61      0.03      0.06       341\n",
      "         direct_report       0.81      0.35      0.49      1285\n",
      "\n",
      "             micro avg       0.82      0.52      0.64     20496\n",
      "             macro avg       0.60      0.20      0.26     20496\n",
      "          weighted avg       0.75      0.52      0.56     20496\n",
      "           samples avg       0.67      0.48      0.51     20496\n",
      "\n",
      "--------------------------------------------------------------------\n",
      "                        precision    recall  f1-score   support\n",
      "\n",
      "               related       1.00      1.00      1.00     14930\n",
      "               request       1.00      0.99      1.00      3364\n",
      "                 offer       1.00      0.98      0.99        90\n",
      "           aid_related       1.00      1.00      1.00      8183\n",
      "          medical_help       1.00      0.99      0.99      1570\n",
      "      medical_products       1.00      0.98      0.99       986\n",
      "     search_and_rescue       1.00      0.97      0.99       558\n",
      "              security       1.00      0.97      0.99       366\n",
      "              military       1.00      0.99      1.00       679\n",
      "                 water       1.00      1.00      1.00      1267\n",
      "                  food       1.00      1.00      1.00      2224\n",
      "               shelter       1.00      1.00      1.00      1755\n",
      "              clothing       1.00      1.00      1.00       311\n",
      "                 money       1.00      0.98      0.99       445\n",
      "        missing_people       1.00      0.98      0.99       236\n",
      "              refugees       1.00      0.98      0.99       657\n",
      "                 death       1.00      0.99      0.99       916\n",
      "             other_aid       1.00      0.99      0.99      2584\n",
      "infrastructure_related       1.00      0.98      0.99      1287\n",
      "             transport       1.00      0.98      0.99       904\n",
      "             buildings       1.00      0.99      0.99      1013\n",
      "           electricity       1.00      1.00      1.00       402\n",
      "                 tools       1.00      0.97      0.98       125\n",
      "             hospitals       1.00      0.96      0.98       213\n",
      "                 shops       1.00      0.97      0.98        93\n",
      "           aid_centers       1.00      0.98      0.99       244\n",
      "  other_infrastructure       1.00      0.97      0.99       859\n",
      "       weather_related       1.00      1.00      1.00      5468\n",
      "                floods       1.00      0.99      1.00      1622\n",
      "                 storm       1.00      1.00      1.00      1821\n",
      "                  fire       1.00      0.98      0.99       214\n",
      "            earthquake       1.00      0.99      1.00      1843\n",
      "                  cold       1.00      0.99      1.00       397\n",
      "         other_weather       1.00      0.99      0.99      1035\n",
      "         direct_report       1.00      0.99      1.00      3790\n",
      "\n",
      "             micro avg       1.00      0.99      1.00     62451\n",
      "             macro avg       1.00      0.99      0.99     62451\n",
      "          weighted avg       1.00      0.99      1.00     62451\n",
      "           samples avg       0.76      0.76      0.76     62451\n",
      "\n",
      "--------------------------------------------------------------------\n",
      "Best Parameters: {'clf__estimator__min_samples_split': 2, 'clf__estimator__n_estimators': 50, 'features__text_pipeline__tfidf__use_idf': True}\n"
     ]
    },
    {
     "name": "stderr",
     "output_type": "stream",
     "text": [
      "/Users/widyapuspitaloka/opt/miniconda3/envs/dsnd_etl/lib/python3.9/site-packages/sklearn/metrics/_classification.py:1248: UndefinedMetricWarning: Precision and F-score are ill-defined and being set to 0.0 in labels with no predicted samples. Use `zero_division` parameter to control this behavior.\n",
      "  _warn_prf(average, modifier, msg_start, len(result))\n",
      "/Users/widyapuspitaloka/opt/miniconda3/envs/dsnd_etl/lib/python3.9/site-packages/sklearn/metrics/_classification.py:1248: UndefinedMetricWarning: Precision and F-score are ill-defined and being set to 0.0 in samples with no predicted labels. Use `zero_division` parameter to control this behavior.\n",
      "  _warn_prf(average, modifier, msg_start, len(result))\n",
      "/Users/widyapuspitaloka/opt/miniconda3/envs/dsnd_etl/lib/python3.9/site-packages/sklearn/metrics/_classification.py:1248: UndefinedMetricWarning: Recall and F-score are ill-defined and being set to 0.0 in samples with no true labels. Use `zero_division` parameter to control this behavior.\n",
      "  _warn_prf(average, modifier, msg_start, len(result))\n",
      "/Users/widyapuspitaloka/opt/miniconda3/envs/dsnd_etl/lib/python3.9/site-packages/sklearn/metrics/_classification.py:1248: UndefinedMetricWarning: Precision and F-score are ill-defined and being set to 0.0 in samples with no predicted labels. Use `zero_division` parameter to control this behavior.\n",
      "  _warn_prf(average, modifier, msg_start, len(result))\n",
      "/Users/widyapuspitaloka/opt/miniconda3/envs/dsnd_etl/lib/python3.9/site-packages/sklearn/metrics/_classification.py:1248: UndefinedMetricWarning: Recall and F-score are ill-defined and being set to 0.0 in samples with no true labels. Use `zero_division` parameter to control this behavior.\n",
      "  _warn_prf(average, modifier, msg_start, len(result))\n"
     ]
    }
   ],
   "source": [
    "#classification report on the test data \n",
    "print(classification_report(y_test.values, y_pred_test, target_names=Y.columns.values))\n",
    "print('--------------------------------------------------------------------')\n",
    "#classification report on the train data \n",
    "print(classification_report(y_train.values, y_pred_train, target_names=Y.columns.values))\n",
    "\n",
    "print('--------------------------------------------------------------------')\n",
    "print('Best Parameters:', pipeline_model.best_params_)"
   ]
  },
  {
   "cell_type": "markdown",
   "id": "4c6d1f50",
   "metadata": {},
   "source": [
    "### 8. Try improving your model further. Here are a few ideas:\n",
    "* try other machine learning algorithms\n",
    "* add other features besides the TF-IDF"
   ]
  },
  {
   "cell_type": "code",
   "execution_count": 79,
   "id": "c33a787a",
   "metadata": {},
   "outputs": [
    {
     "name": "stdout",
     "output_type": "stream",
     "text": [
      "Best Parameters: {'clf__estimator__min_samples_split': 2, 'clf__estimator__n_estimators': 50, 'features__text_pipeline__tfidf__use_idf': True}\n"
     ]
    }
   ],
   "source": [
    "print('Best Parameters:', pipeline_model.best_params_)"
   ]
  },
  {
   "cell_type": "markdown",
   "id": "9610f685",
   "metadata": {},
   "source": [
    "### 9. Export your model as a pickle file"
   ]
  },
  {
   "cell_type": "code",
   "execution_count": 82,
   "id": "098c6e1b",
   "metadata": {},
   "outputs": [],
   "source": [
    "file = open('DisasterMessages.pkl', 'wb')\n",
    "pickle.dump(pipeline_model, file)\n",
    "file.close()"
   ]
  },
  {
   "cell_type": "markdown",
   "id": "689fd008",
   "metadata": {},
   "source": [
    "### 10. Use this notebook to complete `train.py`\n",
    "Use the template file attached in the Resources folder to write a script that runs the steps above to create a database and export a model based on a new dataset specified by the user."
   ]
  },
  {
   "cell_type": "code",
   "execution_count": null,
   "id": "04420a48",
   "metadata": {},
   "outputs": [],
   "source": []
  },
  {
   "cell_type": "code",
   "execution_count": null,
   "id": "989d9a03",
   "metadata": {},
   "outputs": [],
   "source": []
  }
 ],
 "metadata": {
  "kernelspec": {
   "display_name": "Python 3",
   "language": "python",
   "name": "python3"
  },
  "language_info": {
   "codemirror_mode": {
    "name": "ipython",
    "version": 3
   },
   "file_extension": ".py",
   "mimetype": "text/x-python",
   "name": "python",
   "nbconvert_exporter": "python",
   "pygments_lexer": "ipython3",
   "version": "3.9.5"
  }
 },
 "nbformat": 4,
 "nbformat_minor": 5
}
